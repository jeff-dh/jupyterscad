{
 "cells": [
  {
   "cell_type": "markdown",
   "id": "2293aa23-56a4-45ac-a3b8-781268de87aa",
   "metadata": {},
   "source": [
    "# Test\n",
    "\n",
    "Ensure that solid2 and viewscad work and that the notebook can write to the local directory."
   ]
  },
  {
   "cell_type": "code",
   "execution_count": 5,
   "id": "9db85cc8-6475-4ab7-bbd4-cce0c4262898",
   "metadata": {},
   "outputs": [
    {
     "data": {
      "application/vnd.jupyter.widget-view+json": {
       "model_id": "c72ca960b102422bae538170062579bd",
       "version_major": 2,
       "version_minor": 0
      },
      "text/plain": [
       "Renderer(camera=PerspectiveCamera(children=(DirectionalLight(color='white', intensity=0.7, position=(3.0, 5.0,…"
      ]
     },
     "execution_count": 5,
     "metadata": {},
     "output_type": "execute_result"
    }
   ],
   "source": [
    "from solid2 import *\n",
    "\n",
    "from jupyterscad import visualize\n",
    "\n",
    "visualize(cube(1), grid_unit=.2, outfile='cube.stl', width=200, height=200)"
   ]
  },
  {
   "cell_type": "code",
   "execution_count": null,
   "id": "a43deec3-5204-4658-851a-9e87f1874346",
   "metadata": {},
   "outputs": [],
   "source": []
  }
 ],
 "metadata": {
  "kernelspec": {
   "display_name": "Python 3 (ipykernel)",
   "language": "python",
   "name": "python3"
  },
  "language_info": {
   "codemirror_mode": {
    "name": "ipython",
    "version": 3
   },
   "file_extension": ".py",
   "mimetype": "text/x-python",
   "name": "python",
   "nbconvert_exporter": "python",
   "pygments_lexer": "ipython3",
   "version": "3.11.5"
  }
 },
 "nbformat": 4,
 "nbformat_minor": 5
}
